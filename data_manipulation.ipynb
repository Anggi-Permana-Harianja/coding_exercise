{
 "cells": [
  {
   "cell_type": "code",
   "execution_count": 5,
   "id": "f713448b-f4f4-4dc2-a326-b0867420eda8",
   "metadata": {},
   "outputs": [],
   "source": [
    "import pandas as pd\n",
    "import numpy as np"
   ]
  },
  {
   "cell_type": "code",
   "execution_count": 6,
   "id": "b40874f3-5a4a-4dc2-83c5-5b0cc58b265d",
   "metadata": {},
   "outputs": [],
   "source": [
    "#synthetic dataset\n",
    "import pandas as pd\n",
    "\n",
    "# Create a sample dataset for learning pandas\n",
    "data = {\n",
    "    \"Order ID\": [101, 102, 103, 104, 105],\n",
    "    \"Product\": [\"Apple iPhone\", \"Samsung TV\", \"HP Laptop\", \"Office Chair\", \"Wooden Desk\"],\n",
    "    \"Category\": [\"Electronics\", \"Electronics\", \"Electronics\", \"Furniture\", \"Furniture\"],\n",
    "    \"Quantity\": [2, 1, 1, 4, 2],\n",
    "    \"Price\": [999, 499, 799, 120, 300],\n",
    "    \"Discount\": [0.1, 0.15, 0.05, 0.2, 0.1],\n",
    "    \"Order Date\": [\"2024-01-01\", \"2024-01-03\", \"2024-01-05\", \"2024-01-10\", \"2024-01-15\"],\n",
    "    \"Region\": [\"North\", \"South\", \"East\", \"West\", \"North\"]\n",
    "}\n",
    "\n",
    "# Convert the data to a DataFrame\n",
    "df = pd.DataFrame(data)\n",
    "\n",
    "# Save the DataFrame to a CSV file\n",
    "file_path = \"sample_sales_data.csv\"\n",
    "df.to_csv(file_path, index=False)"
   ]
  },
  {
   "cell_type": "markdown",
   "id": "63a82255-fecc-4c0e-8b1e-1ec4bedd9333",
   "metadata": {},
   "source": [
    "### Subset and slicing"
   ]
  },
  {
   "cell_type": "code",
   "execution_count": 7,
   "id": "d3ed45b1-a3fb-4385-8259-c4a87c886062",
   "metadata": {},
   "outputs": [],
   "source": [
    "df = pd.read_csv('sample_sales_data.csv')"
   ]
  },
  {
   "cell_type": "code",
   "execution_count": 10,
   "id": "714a3e07-8955-4535-ba02-79098231b87d",
   "metadata": {},
   "outputs": [
    {
     "data": {
      "text/html": [
       "<div>\n",
       "<style scoped>\n",
       "    .dataframe tbody tr th:only-of-type {\n",
       "        vertical-align: middle;\n",
       "    }\n",
       "\n",
       "    .dataframe tbody tr th {\n",
       "        vertical-align: top;\n",
       "    }\n",
       "\n",
       "    .dataframe thead th {\n",
       "        text-align: right;\n",
       "    }\n",
       "</style>\n",
       "<table border=\"1\" class=\"dataframe\">\n",
       "  <thead>\n",
       "    <tr style=\"text-align: right;\">\n",
       "      <th></th>\n",
       "      <th>Order ID</th>\n",
       "      <th>Product</th>\n",
       "      <th>Category</th>\n",
       "      <th>Quantity</th>\n",
       "      <th>Price</th>\n",
       "      <th>Discount</th>\n",
       "      <th>Order Date</th>\n",
       "      <th>Region</th>\n",
       "    </tr>\n",
       "  </thead>\n",
       "  <tbody>\n",
       "    <tr>\n",
       "      <th>0</th>\n",
       "      <td>101</td>\n",
       "      <td>Apple iPhone</td>\n",
       "      <td>Electronics</td>\n",
       "      <td>2</td>\n",
       "      <td>999</td>\n",
       "      <td>0.10</td>\n",
       "      <td>2024-01-01</td>\n",
       "      <td>North</td>\n",
       "    </tr>\n",
       "    <tr>\n",
       "      <th>1</th>\n",
       "      <td>102</td>\n",
       "      <td>Samsung TV</td>\n",
       "      <td>Electronics</td>\n",
       "      <td>1</td>\n",
       "      <td>499</td>\n",
       "      <td>0.15</td>\n",
       "      <td>2024-01-03</td>\n",
       "      <td>South</td>\n",
       "    </tr>\n",
       "    <tr>\n",
       "      <th>2</th>\n",
       "      <td>103</td>\n",
       "      <td>HP Laptop</td>\n",
       "      <td>Electronics</td>\n",
       "      <td>1</td>\n",
       "      <td>799</td>\n",
       "      <td>0.05</td>\n",
       "      <td>2024-01-05</td>\n",
       "      <td>East</td>\n",
       "    </tr>\n",
       "    <tr>\n",
       "      <th>3</th>\n",
       "      <td>104</td>\n",
       "      <td>Office Chair</td>\n",
       "      <td>Furniture</td>\n",
       "      <td>4</td>\n",
       "      <td>120</td>\n",
       "      <td>0.20</td>\n",
       "      <td>2024-01-10</td>\n",
       "      <td>West</td>\n",
       "    </tr>\n",
       "    <tr>\n",
       "      <th>4</th>\n",
       "      <td>105</td>\n",
       "      <td>Wooden Desk</td>\n",
       "      <td>Furniture</td>\n",
       "      <td>2</td>\n",
       "      <td>300</td>\n",
       "      <td>0.10</td>\n",
       "      <td>2024-01-15</td>\n",
       "      <td>North</td>\n",
       "    </tr>\n",
       "  </tbody>\n",
       "</table>\n",
       "</div>"
      ],
      "text/plain": [
       "   Order ID       Product     Category  Quantity  Price  Discount  Order Date  \\\n",
       "0       101  Apple iPhone  Electronics         2    999      0.10  2024-01-01   \n",
       "1       102    Samsung TV  Electronics         1    499      0.15  2024-01-03   \n",
       "2       103     HP Laptop  Electronics         1    799      0.05  2024-01-05   \n",
       "3       104  Office Chair    Furniture         4    120      0.20  2024-01-10   \n",
       "4       105   Wooden Desk    Furniture         2    300      0.10  2024-01-15   \n",
       "\n",
       "  Region  \n",
       "0  North  \n",
       "1  South  \n",
       "2   East  \n",
       "3   West  \n",
       "4  North  "
      ]
     },
     "execution_count": 10,
     "metadata": {},
     "output_type": "execute_result"
    }
   ],
   "source": [
    "df.head()"
   ]
  },
  {
   "cell_type": "code",
   "execution_count": 21,
   "id": "95dcd810-db49-4881-a811-c7603a2d91b1",
   "metadata": {},
   "outputs": [
    {
     "data": {
      "text/html": [
       "<div>\n",
       "<style scoped>\n",
       "    .dataframe tbody tr th:only-of-type {\n",
       "        vertical-align: middle;\n",
       "    }\n",
       "\n",
       "    .dataframe tbody tr th {\n",
       "        vertical-align: top;\n",
       "    }\n",
       "\n",
       "    .dataframe thead th {\n",
       "        text-align: right;\n",
       "    }\n",
       "</style>\n",
       "<table border=\"1\" class=\"dataframe\">\n",
       "  <thead>\n",
       "    <tr style=\"text-align: right;\">\n",
       "      <th></th>\n",
       "      <th>Product</th>\n",
       "    </tr>\n",
       "  </thead>\n",
       "  <tbody>\n",
       "    <tr>\n",
       "      <th>0</th>\n",
       "      <td>Apple iPhone</td>\n",
       "    </tr>\n",
       "    <tr>\n",
       "      <th>4</th>\n",
       "      <td>Wooden Desk</td>\n",
       "    </tr>\n",
       "  </tbody>\n",
       "</table>\n",
       "</div>"
      ],
      "text/plain": [
       "        Product\n",
       "0  Apple iPhone\n",
       "4   Wooden Desk"
      ]
     },
     "execution_count": 21,
     "metadata": {},
     "output_type": "execute_result"
    }
   ],
   "source": [
    "# get only region north\n",
    "df[df.Region == \"North\"][[\"Product\"]]"
   ]
  },
  {
   "cell_type": "code",
   "execution_count": 22,
   "id": "32ea8c76-1822-4581-8962-be068fa2ae2e",
   "metadata": {},
   "outputs": [
    {
     "data": {
      "text/plain": [
       "0    Apple iPhone\n",
       "4     Wooden Desk\n",
       "Name: Product, dtype: object"
      ]
     },
     "execution_count": 22,
     "metadata": {},
     "output_type": "execute_result"
    }
   ],
   "source": [
    "# get only region north as series\n",
    "df[df.Region == \"North\"].Product"
   ]
  },
  {
   "cell_type": "code",
   "execution_count": 24,
   "id": "c9591032-0b8d-415d-accd-2de6d5363b19",
   "metadata": {},
   "outputs": [
    {
     "data": {
      "text/plain": [
       "0    Apple iPhone\n",
       "1      Samsung TV\n",
       "2       HP Laptop\n",
       "3    Office Chair\n",
       "4     Wooden Desk\n",
       "Name: Product, dtype: object"
      ]
     },
     "execution_count": 24,
     "metadata": {},
     "output_type": "execute_result"
    }
   ],
   "source": [
    "# use .loc \n",
    "df.loc[:, \"Product\"]"
   ]
  },
  {
   "cell_type": "code",
   "execution_count": 26,
   "id": "6a8f00c4-5bec-4b3a-aebb-c023e937130e",
   "metadata": {},
   "outputs": [
    {
     "data": {
      "text/html": [
       "<div>\n",
       "<style scoped>\n",
       "    .dataframe tbody tr th:only-of-type {\n",
       "        vertical-align: middle;\n",
       "    }\n",
       "\n",
       "    .dataframe tbody tr th {\n",
       "        vertical-align: top;\n",
       "    }\n",
       "\n",
       "    .dataframe thead th {\n",
       "        text-align: right;\n",
       "    }\n",
       "</style>\n",
       "<table border=\"1\" class=\"dataframe\">\n",
       "  <thead>\n",
       "    <tr style=\"text-align: right;\">\n",
       "      <th></th>\n",
       "      <th>Product</th>\n",
       "    </tr>\n",
       "  </thead>\n",
       "  <tbody>\n",
       "    <tr>\n",
       "      <th>0</th>\n",
       "      <td>Apple iPhone</td>\n",
       "    </tr>\n",
       "    <tr>\n",
       "      <th>1</th>\n",
       "      <td>Samsung TV</td>\n",
       "    </tr>\n",
       "    <tr>\n",
       "      <th>2</th>\n",
       "      <td>HP Laptop</td>\n",
       "    </tr>\n",
       "    <tr>\n",
       "      <th>3</th>\n",
       "      <td>Office Chair</td>\n",
       "    </tr>\n",
       "    <tr>\n",
       "      <th>4</th>\n",
       "      <td>Wooden Desk</td>\n",
       "    </tr>\n",
       "  </tbody>\n",
       "</table>\n",
       "</div>"
      ],
      "text/plain": [
       "        Product\n",
       "0  Apple iPhone\n",
       "1    Samsung TV\n",
       "2     HP Laptop\n",
       "3  Office Chair\n",
       "4   Wooden Desk"
      ]
     },
     "execution_count": 26,
     "metadata": {},
     "output_type": "execute_result"
    }
   ],
   "source": [
    "# use .loc as object\n",
    "df.loc[:, [\"Product\"]]"
   ]
  },
  {
   "cell_type": "code",
   "execution_count": 28,
   "id": "16c412d2-ff1f-4ffa-94ac-80f4d78a0cb0",
   "metadata": {},
   "outputs": [
    {
     "data": {
      "text/plain": [
       "0    Apple iPhone\n",
       "4     Wooden Desk\n",
       "Name: Product, dtype: object"
      ]
     },
     "execution_count": 28,
     "metadata": {},
     "output_type": "execute_result"
    }
   ],
   "source": [
    "df.loc[df.Region == \"North\", \"Product\"]"
   ]
  },
  {
   "cell_type": "code",
   "execution_count": 29,
   "id": "3f852cf0-0520-4ccc-9773-54ff2beb5508",
   "metadata": {},
   "outputs": [
    {
     "data": {
      "text/html": [
       "<div>\n",
       "<style scoped>\n",
       "    .dataframe tbody tr th:only-of-type {\n",
       "        vertical-align: middle;\n",
       "    }\n",
       "\n",
       "    .dataframe tbody tr th {\n",
       "        vertical-align: top;\n",
       "    }\n",
       "\n",
       "    .dataframe thead th {\n",
       "        text-align: right;\n",
       "    }\n",
       "</style>\n",
       "<table border=\"1\" class=\"dataframe\">\n",
       "  <thead>\n",
       "    <tr style=\"text-align: right;\">\n",
       "      <th></th>\n",
       "      <th>Product</th>\n",
       "    </tr>\n",
       "  </thead>\n",
       "  <tbody>\n",
       "    <tr>\n",
       "      <th>0</th>\n",
       "      <td>Apple iPhone</td>\n",
       "    </tr>\n",
       "    <tr>\n",
       "      <th>4</th>\n",
       "      <td>Wooden Desk</td>\n",
       "    </tr>\n",
       "  </tbody>\n",
       "</table>\n",
       "</div>"
      ],
      "text/plain": [
       "        Product\n",
       "0  Apple iPhone\n",
       "4   Wooden Desk"
      ]
     },
     "execution_count": 29,
     "metadata": {},
     "output_type": "execute_result"
    }
   ],
   "source": [
    "df.loc[df.Region == \"North\", [\"Product\"]]"
   ]
  },
  {
   "cell_type": "code",
   "execution_count": 31,
   "id": "b9990b36-e5d0-45ad-941e-0cb356a28b39",
   "metadata": {},
   "outputs": [
    {
     "data": {
      "text/plain": [
       "1      Samsung TV\n",
       "2       HP Laptop\n",
       "3    Office Chair\n",
       "Name: Product, dtype: object"
      ]
     },
     "execution_count": 31,
     "metadata": {},
     "output_type": "execute_result"
    }
   ],
   "source": [
    "# use .iloc\n",
    "df.iloc[1:-1, 1]"
   ]
  },
  {
   "cell_type": "code",
   "execution_count": 33,
   "id": "12a75527-e4a6-421b-af73-5dba0a725eb1",
   "metadata": {},
   "outputs": [
    {
     "data": {
      "text/html": [
       "<div>\n",
       "<style scoped>\n",
       "    .dataframe tbody tr th:only-of-type {\n",
       "        vertical-align: middle;\n",
       "    }\n",
       "\n",
       "    .dataframe tbody tr th {\n",
       "        vertical-align: top;\n",
       "    }\n",
       "\n",
       "    .dataframe thead th {\n",
       "        text-align: right;\n",
       "    }\n",
       "</style>\n",
       "<table border=\"1\" class=\"dataframe\">\n",
       "  <thead>\n",
       "    <tr style=\"text-align: right;\">\n",
       "      <th></th>\n",
       "      <th>Product</th>\n",
       "    </tr>\n",
       "  </thead>\n",
       "  <tbody>\n",
       "    <tr>\n",
       "      <th>1</th>\n",
       "      <td>Samsung TV</td>\n",
       "    </tr>\n",
       "    <tr>\n",
       "      <th>2</th>\n",
       "      <td>HP Laptop</td>\n",
       "    </tr>\n",
       "    <tr>\n",
       "      <th>3</th>\n",
       "      <td>Office Chair</td>\n",
       "    </tr>\n",
       "  </tbody>\n",
       "</table>\n",
       "</div>"
      ],
      "text/plain": [
       "        Product\n",
       "1    Samsung TV\n",
       "2     HP Laptop\n",
       "3  Office Chair"
      ]
     },
     "execution_count": 33,
     "metadata": {},
     "output_type": "execute_result"
    }
   ],
   "source": [
    "# use .iloc as object\n",
    "df.iloc[1:-1, [1]]"
   ]
  },
  {
   "cell_type": "code",
   "execution_count": 36,
   "id": "6be0e1d5-9ddf-41bb-891b-6688561f41a9",
   "metadata": {},
   "outputs": [
    {
     "data": {
      "text/html": [
       "<div>\n",
       "<style scoped>\n",
       "    .dataframe tbody tr th:only-of-type {\n",
       "        vertical-align: middle;\n",
       "    }\n",
       "\n",
       "    .dataframe tbody tr th {\n",
       "        vertical-align: top;\n",
       "    }\n",
       "\n",
       "    .dataframe thead th {\n",
       "        text-align: right;\n",
       "    }\n",
       "</style>\n",
       "<table border=\"1\" class=\"dataframe\">\n",
       "  <thead>\n",
       "    <tr style=\"text-align: right;\">\n",
       "      <th></th>\n",
       "      <th>Product</th>\n",
       "    </tr>\n",
       "  </thead>\n",
       "  <tbody>\n",
       "    <tr>\n",
       "      <th>1</th>\n",
       "      <td>Samsung TV</td>\n",
       "    </tr>\n",
       "    <tr>\n",
       "      <th>2</th>\n",
       "      <td>HP Laptop</td>\n",
       "    </tr>\n",
       "    <tr>\n",
       "      <th>3</th>\n",
       "      <td>Office Chair</td>\n",
       "    </tr>\n",
       "  </tbody>\n",
       "</table>\n",
       "</div>"
      ],
      "text/plain": [
       "        Product\n",
       "1    Samsung TV\n",
       "2     HP Laptop\n",
       "3  Office Chair"
      ]
     },
     "execution_count": 36,
     "metadata": {},
     "output_type": "execute_result"
    }
   ],
   "source": [
    "df.iloc[1:-1][[\"Product\"]]"
   ]
  },
  {
   "cell_type": "code",
   "execution_count": 40,
   "id": "2a998f8e-b3b2-4c8f-9a58-cae75d4fdd78",
   "metadata": {},
   "outputs": [
    {
     "data": {
      "text/html": [
       "<div>\n",
       "<style scoped>\n",
       "    .dataframe tbody tr th:only-of-type {\n",
       "        vertical-align: middle;\n",
       "    }\n",
       "\n",
       "    .dataframe tbody tr th {\n",
       "        vertical-align: top;\n",
       "    }\n",
       "\n",
       "    .dataframe thead th {\n",
       "        text-align: right;\n",
       "    }\n",
       "</style>\n",
       "<table border=\"1\" class=\"dataframe\">\n",
       "  <thead>\n",
       "    <tr style=\"text-align: right;\">\n",
       "      <th></th>\n",
       "      <th>Order ID</th>\n",
       "      <th>Product</th>\n",
       "      <th>Category</th>\n",
       "      <th>Quantity</th>\n",
       "      <th>Price</th>\n",
       "      <th>Discount</th>\n",
       "      <th>Order Date</th>\n",
       "      <th>Region</th>\n",
       "    </tr>\n",
       "  </thead>\n",
       "  <tbody>\n",
       "    <tr>\n",
       "      <th>0</th>\n",
       "      <td>101</td>\n",
       "      <td>Apple iPhone</td>\n",
       "      <td>Electronics</td>\n",
       "      <td>2</td>\n",
       "      <td>999</td>\n",
       "      <td>0.1</td>\n",
       "      <td>2024-01-01</td>\n",
       "      <td>North</td>\n",
       "    </tr>\n",
       "    <tr>\n",
       "      <th>4</th>\n",
       "      <td>105</td>\n",
       "      <td>Wooden Desk</td>\n",
       "      <td>Furniture</td>\n",
       "      <td>2</td>\n",
       "      <td>300</td>\n",
       "      <td>0.1</td>\n",
       "      <td>2024-01-15</td>\n",
       "      <td>North</td>\n",
       "    </tr>\n",
       "  </tbody>\n",
       "</table>\n",
       "</div>"
      ],
      "text/plain": [
       "   Order ID       Product     Category  Quantity  Price  Discount  Order Date  \\\n",
       "0       101  Apple iPhone  Electronics         2    999       0.1  2024-01-01   \n",
       "4       105   Wooden Desk    Furniture         2    300       0.1  2024-01-15   \n",
       "\n",
       "  Region  \n",
       "0  North  \n",
       "4  North  "
      ]
     },
     "execution_count": 40,
     "metadata": {},
     "output_type": "execute_result"
    }
   ],
   "source": [
    "# conditional slicing\n",
    "df.loc[(df.Region == \"North\") & (df.Category.isin([\"Furniture\", \"Electronics\"]))]"
   ]
  },
  {
   "cell_type": "code",
   "execution_count": 43,
   "id": "4912f737-84f5-42a2-b6e0-f49f87aa5ae6",
   "metadata": {},
   "outputs": [
    {
     "data": {
      "text/html": [
       "<div>\n",
       "<style scoped>\n",
       "    .dataframe tbody tr th:only-of-type {\n",
       "        vertical-align: middle;\n",
       "    }\n",
       "\n",
       "    .dataframe tbody tr th {\n",
       "        vertical-align: top;\n",
       "    }\n",
       "\n",
       "    .dataframe thead th {\n",
       "        text-align: right;\n",
       "    }\n",
       "</style>\n",
       "<table border=\"1\" class=\"dataframe\">\n",
       "  <thead>\n",
       "    <tr style=\"text-align: right;\">\n",
       "      <th></th>\n",
       "      <th>Order ID</th>\n",
       "      <th>Product</th>\n",
       "      <th>Category</th>\n",
       "      <th>Quantity</th>\n",
       "      <th>Price</th>\n",
       "      <th>Discount</th>\n",
       "      <th>Order Date</th>\n",
       "      <th>Region</th>\n",
       "    </tr>\n",
       "  </thead>\n",
       "  <tbody>\n",
       "    <tr>\n",
       "      <th>4</th>\n",
       "      <td>105</td>\n",
       "      <td>Wooden Desk</td>\n",
       "      <td>Furniture</td>\n",
       "      <td>2</td>\n",
       "      <td>300</td>\n",
       "      <td>0.1</td>\n",
       "      <td>2024-01-15</td>\n",
       "      <td>North</td>\n",
       "    </tr>\n",
       "    <tr>\n",
       "      <th>4</th>\n",
       "      <td>105</td>\n",
       "      <td>Wooden Desk</td>\n",
       "      <td>Furniture</td>\n",
       "      <td>2</td>\n",
       "      <td>300</td>\n",
       "      <td>0.1</td>\n",
       "      <td>2024-01-15</td>\n",
       "      <td>North</td>\n",
       "    </tr>\n",
       "  </tbody>\n",
       "</table>\n",
       "</div>"
      ],
      "text/plain": [
       "   Order ID      Product   Category  Quantity  Price  Discount  Order Date  \\\n",
       "4       105  Wooden Desk  Furniture         2    300       0.1  2024-01-15   \n",
       "4       105  Wooden Desk  Furniture         2    300       0.1  2024-01-15   \n",
       "\n",
       "  Region  \n",
       "4  North  \n",
       "4  North  "
      ]
     },
     "execution_count": 43,
     "metadata": {},
     "output_type": "execute_result"
    }
   ],
   "source": [
    "# conditional slicing\n",
    "df.loc[(df.Region == \"North\") & (df.Category.isin([\"Furniture\", \"Electronics\"]))].iloc[[1, -1]]"
   ]
  },
  {
   "cell_type": "markdown",
   "id": "9917f387-36e7-4987-945e-4fab2cc12994",
   "metadata": {},
   "source": [
    "#### Querying"
   ]
  },
  {
   "cell_type": "code",
   "execution_count": 47,
   "id": "4216de7a-a60e-4d2b-b52a-bd8f773ed175",
   "metadata": {},
   "outputs": [
    {
     "data": {
      "text/html": [
       "<div>\n",
       "<style scoped>\n",
       "    .dataframe tbody tr th:only-of-type {\n",
       "        vertical-align: middle;\n",
       "    }\n",
       "\n",
       "    .dataframe tbody tr th {\n",
       "        vertical-align: top;\n",
       "    }\n",
       "\n",
       "    .dataframe thead th {\n",
       "        text-align: right;\n",
       "    }\n",
       "</style>\n",
       "<table border=\"1\" class=\"dataframe\">\n",
       "  <thead>\n",
       "    <tr style=\"text-align: right;\">\n",
       "      <th></th>\n",
       "      <th>Order ID</th>\n",
       "      <th>Product</th>\n",
       "      <th>Category</th>\n",
       "      <th>Quantity</th>\n",
       "      <th>Price</th>\n",
       "      <th>Discount</th>\n",
       "      <th>Order Date</th>\n",
       "      <th>Region</th>\n",
       "    </tr>\n",
       "  </thead>\n",
       "  <tbody>\n",
       "    <tr>\n",
       "      <th>0</th>\n",
       "      <td>101</td>\n",
       "      <td>Apple iPhone</td>\n",
       "      <td>Electronics</td>\n",
       "      <td>2</td>\n",
       "      <td>999</td>\n",
       "      <td>0.1</td>\n",
       "      <td>2024-01-01</td>\n",
       "      <td>North</td>\n",
       "    </tr>\n",
       "    <tr>\n",
       "      <th>4</th>\n",
       "      <td>105</td>\n",
       "      <td>Wooden Desk</td>\n",
       "      <td>Furniture</td>\n",
       "      <td>2</td>\n",
       "      <td>300</td>\n",
       "      <td>0.1</td>\n",
       "      <td>2024-01-15</td>\n",
       "      <td>North</td>\n",
       "    </tr>\n",
       "  </tbody>\n",
       "</table>\n",
       "</div>"
      ],
      "text/plain": [
       "   Order ID       Product     Category  Quantity  Price  Discount  Order Date  \\\n",
       "0       101  Apple iPhone  Electronics         2    999       0.1  2024-01-01   \n",
       "4       105   Wooden Desk    Furniture         2    300       0.1  2024-01-15   \n",
       "\n",
       "  Region  \n",
       "0  North  \n",
       "4  North  "
      ]
     },
     "execution_count": 47,
     "metadata": {},
     "output_type": "execute_result"
    }
   ],
   "source": [
    "df.query('Region == \"North\" and Category in (\"Electronics\", \"Furniture\")')"
   ]
  },
  {
   "cell_type": "code",
   "execution_count": 49,
   "id": "74415943-955c-4c65-84c2-f730e3702d1a",
   "metadata": {},
   "outputs": [
    {
     "data": {
      "text/html": [
       "<div>\n",
       "<style scoped>\n",
       "    .dataframe tbody tr th:only-of-type {\n",
       "        vertical-align: middle;\n",
       "    }\n",
       "\n",
       "    .dataframe tbody tr th {\n",
       "        vertical-align: top;\n",
       "    }\n",
       "\n",
       "    .dataframe thead th {\n",
       "        text-align: right;\n",
       "    }\n",
       "</style>\n",
       "<table border=\"1\" class=\"dataframe\">\n",
       "  <thead>\n",
       "    <tr style=\"text-align: right;\">\n",
       "      <th></th>\n",
       "      <th>Order ID</th>\n",
       "      <th>Product</th>\n",
       "      <th>Category</th>\n",
       "      <th>Quantity</th>\n",
       "      <th>Price</th>\n",
       "      <th>Discount</th>\n",
       "      <th>Order Date</th>\n",
       "      <th>Region</th>\n",
       "    </tr>\n",
       "  </thead>\n",
       "  <tbody>\n",
       "    <tr>\n",
       "      <th>0</th>\n",
       "      <td>101</td>\n",
       "      <td>Apple iPhone</td>\n",
       "      <td>Electronics</td>\n",
       "      <td>2</td>\n",
       "      <td>999</td>\n",
       "      <td>0.1</td>\n",
       "      <td>2024-01-01</td>\n",
       "      <td>North</td>\n",
       "    </tr>\n",
       "    <tr>\n",
       "      <th>4</th>\n",
       "      <td>105</td>\n",
       "      <td>Wooden Desk</td>\n",
       "      <td>Furniture</td>\n",
       "      <td>2</td>\n",
       "      <td>300</td>\n",
       "      <td>0.1</td>\n",
       "      <td>2024-01-15</td>\n",
       "      <td>North</td>\n",
       "    </tr>\n",
       "  </tbody>\n",
       "</table>\n",
       "</div>"
      ],
      "text/plain": [
       "   Order ID       Product     Category  Quantity  Price  Discount  Order Date  \\\n",
       "0       101  Apple iPhone  Electronics         2    999       0.1  2024-01-01   \n",
       "4       105   Wooden Desk    Furniture         2    300       0.1  2024-01-15   \n",
       "\n",
       "  Region  \n",
       "0  North  \n",
       "4  North  "
      ]
     },
     "execution_count": 49,
     "metadata": {},
     "output_type": "execute_result"
    }
   ],
   "source": [
    "# use @ for variable\n",
    "categories = [\"Electronics\", \"Furniture\"]\n",
    "df.query('Region == \"North\" and Category in @categories')"
   ]
  },
  {
   "cell_type": "markdown",
   "id": "76f5032e-80ff-44fe-b4d7-2ea085bd5f38",
   "metadata": {},
   "source": [
    "#### Grouping"
   ]
  },
  {
   "cell_type": "code",
   "execution_count": 52,
   "id": "770f58e5-22f3-485c-9e34-4a339bbe31bd",
   "metadata": {},
   "outputs": [
    {
     "data": {
      "text/html": [
       "<div>\n",
       "<style scoped>\n",
       "    .dataframe tbody tr th:only-of-type {\n",
       "        vertical-align: middle;\n",
       "    }\n",
       "\n",
       "    .dataframe tbody tr th {\n",
       "        vertical-align: top;\n",
       "    }\n",
       "\n",
       "    .dataframe thead th {\n",
       "        text-align: right;\n",
       "    }\n",
       "</style>\n",
       "<table border=\"1\" class=\"dataframe\">\n",
       "  <thead>\n",
       "    <tr style=\"text-align: right;\">\n",
       "      <th></th>\n",
       "      <th>Region</th>\n",
       "      <th>Quantity</th>\n",
       "    </tr>\n",
       "  </thead>\n",
       "  <tbody>\n",
       "    <tr>\n",
       "      <th>0</th>\n",
       "      <td>East</td>\n",
       "      <td>1</td>\n",
       "    </tr>\n",
       "    <tr>\n",
       "      <th>1</th>\n",
       "      <td>North</td>\n",
       "      <td>4</td>\n",
       "    </tr>\n",
       "    <tr>\n",
       "      <th>2</th>\n",
       "      <td>South</td>\n",
       "      <td>1</td>\n",
       "    </tr>\n",
       "    <tr>\n",
       "      <th>3</th>\n",
       "      <td>West</td>\n",
       "      <td>4</td>\n",
       "    </tr>\n",
       "  </tbody>\n",
       "</table>\n",
       "</div>"
      ],
      "text/plain": [
       "  Region  Quantity\n",
       "0   East         1\n",
       "1  North         4\n",
       "2  South         1\n",
       "3   West         4"
      ]
     },
     "execution_count": 52,
     "metadata": {},
     "output_type": "execute_result"
    }
   ],
   "source": [
    "df.groupby(\"Region\")[[\"Quantity\"]].sum().reset_index()"
   ]
  },
  {
   "cell_type": "code",
   "execution_count": 54,
   "id": "a775ba51-bfb3-4ea4-b204-be6bf58d6fc9",
   "metadata": {},
   "outputs": [
    {
     "data": {
      "text/html": [
       "<div>\n",
       "<style scoped>\n",
       "    .dataframe tbody tr th:only-of-type {\n",
       "        vertical-align: middle;\n",
       "    }\n",
       "\n",
       "    .dataframe tbody tr th {\n",
       "        vertical-align: top;\n",
       "    }\n",
       "\n",
       "    .dataframe thead th {\n",
       "        text-align: right;\n",
       "    }\n",
       "</style>\n",
       "<table border=\"1\" class=\"dataframe\">\n",
       "  <thead>\n",
       "    <tr style=\"text-align: right;\">\n",
       "      <th></th>\n",
       "      <th>Category</th>\n",
       "      <th>Quantity</th>\n",
       "    </tr>\n",
       "  </thead>\n",
       "  <tbody>\n",
       "    <tr>\n",
       "      <th>0</th>\n",
       "      <td>Electronics</td>\n",
       "      <td>1.333333</td>\n",
       "    </tr>\n",
       "    <tr>\n",
       "      <th>1</th>\n",
       "      <td>Furniture</td>\n",
       "      <td>3.000000</td>\n",
       "    </tr>\n",
       "  </tbody>\n",
       "</table>\n",
       "</div>"
      ],
      "text/plain": [
       "      Category  Quantity\n",
       "0  Electronics  1.333333\n",
       "1    Furniture  3.000000"
      ]
     },
     "execution_count": 54,
     "metadata": {},
     "output_type": "execute_result"
    }
   ],
   "source": [
    "df.groupby(\"Category\")[[\"Quantity\"]].mean().reset_index()"
   ]
  },
  {
   "cell_type": "code",
   "execution_count": 56,
   "id": "f86e39e0-12ad-463b-8ea1-bda1ace41462",
   "metadata": {},
   "outputs": [
    {
     "data": {
      "text/html": [
       "<div>\n",
       "<style scoped>\n",
       "    .dataframe tbody tr th:only-of-type {\n",
       "        vertical-align: middle;\n",
       "    }\n",
       "\n",
       "    .dataframe tbody tr th {\n",
       "        vertical-align: top;\n",
       "    }\n",
       "\n",
       "    .dataframe thead th {\n",
       "        text-align: right;\n",
       "    }\n",
       "</style>\n",
       "<table border=\"1\" class=\"dataframe\">\n",
       "  <thead>\n",
       "    <tr style=\"text-align: right;\">\n",
       "      <th></th>\n",
       "      <th>Category</th>\n",
       "      <th>Region</th>\n",
       "      <th>Quantity</th>\n",
       "    </tr>\n",
       "  </thead>\n",
       "  <tbody>\n",
       "    <tr>\n",
       "      <th>0</th>\n",
       "      <td>Electronics</td>\n",
       "      <td>East</td>\n",
       "      <td>1</td>\n",
       "    </tr>\n",
       "    <tr>\n",
       "      <th>1</th>\n",
       "      <td>Electronics</td>\n",
       "      <td>North</td>\n",
       "      <td>2</td>\n",
       "    </tr>\n",
       "    <tr>\n",
       "      <th>2</th>\n",
       "      <td>Electronics</td>\n",
       "      <td>South</td>\n",
       "      <td>1</td>\n",
       "    </tr>\n",
       "    <tr>\n",
       "      <th>3</th>\n",
       "      <td>Furniture</td>\n",
       "      <td>North</td>\n",
       "      <td>2</td>\n",
       "    </tr>\n",
       "    <tr>\n",
       "      <th>4</th>\n",
       "      <td>Furniture</td>\n",
       "      <td>West</td>\n",
       "      <td>4</td>\n",
       "    </tr>\n",
       "  </tbody>\n",
       "</table>\n",
       "</div>"
      ],
      "text/plain": [
       "      Category Region  Quantity\n",
       "0  Electronics   East         1\n",
       "1  Electronics  North         2\n",
       "2  Electronics  South         1\n",
       "3    Furniture  North         2\n",
       "4    Furniture   West         4"
      ]
     },
     "execution_count": 56,
     "metadata": {},
     "output_type": "execute_result"
    }
   ],
   "source": [
    "# group by multiple columns\n",
    "df.groupby([\"Category\", \"Region\"])[[\"Quantity\"]].sum().reset_index()"
   ]
  },
  {
   "cell_type": "markdown",
   "id": "720dc288-75a9-412e-87a9-169d36930ad1",
   "metadata": {},
   "source": [
    "#### Aggregation"
   ]
  },
  {
   "cell_type": "code",
   "execution_count": 58,
   "id": "b2a730c4-1597-445b-8c68-761e716c05e6",
   "metadata": {},
   "outputs": [
    {
     "data": {
      "text/html": [
       "<div>\n",
       "<style scoped>\n",
       "    .dataframe tbody tr th:only-of-type {\n",
       "        vertical-align: middle;\n",
       "    }\n",
       "\n",
       "    .dataframe tbody tr th {\n",
       "        vertical-align: top;\n",
       "    }\n",
       "\n",
       "    .dataframe thead th {\n",
       "        text-align: right;\n",
       "    }\n",
       "</style>\n",
       "<table border=\"1\" class=\"dataframe\">\n",
       "  <thead>\n",
       "    <tr style=\"text-align: right;\">\n",
       "      <th></th>\n",
       "      <th>Category</th>\n",
       "      <th>Total_qty</th>\n",
       "      <th>Avg_price</th>\n",
       "    </tr>\n",
       "  </thead>\n",
       "  <tbody>\n",
       "    <tr>\n",
       "      <th>0</th>\n",
       "      <td>Electronics</td>\n",
       "      <td>4</td>\n",
       "      <td>799.0</td>\n",
       "    </tr>\n",
       "    <tr>\n",
       "      <th>1</th>\n",
       "      <td>Furniture</td>\n",
       "      <td>6</td>\n",
       "      <td>210.0</td>\n",
       "    </tr>\n",
       "  </tbody>\n",
       "</table>\n",
       "</div>"
      ],
      "text/plain": [
       "      Category  Total_qty  Avg_price\n",
       "0  Electronics          4      799.0\n",
       "1    Furniture          6      210.0"
      ]
     },
     "execution_count": 58,
     "metadata": {},
     "output_type": "execute_result"
    }
   ],
   "source": [
    "# simple aggregation\n",
    "df.groupby(\"Category\").agg(\n",
    "    Total_qty=(\"Quantity\", \"sum\"),\n",
    "    Avg_price=(\"Price\", \"median\")\n",
    ").reset_index()"
   ]
  },
  {
   "cell_type": "code",
   "execution_count": 64,
   "id": "309dce47-a7b3-4d3c-a4e7-e111a827ec0d",
   "metadata": {},
   "outputs": [
    {
     "data": {
      "text/html": [
       "<div>\n",
       "<style scoped>\n",
       "    .dataframe tbody tr th:only-of-type {\n",
       "        vertical-align: middle;\n",
       "    }\n",
       "\n",
       "    .dataframe tbody tr th {\n",
       "        vertical-align: top;\n",
       "    }\n",
       "\n",
       "    .dataframe thead th {\n",
       "        text-align: right;\n",
       "    }\n",
       "</style>\n",
       "<table border=\"1\" class=\"dataframe\">\n",
       "  <thead>\n",
       "    <tr style=\"text-align: right;\">\n",
       "      <th></th>\n",
       "      <th>Category</th>\n",
       "      <th>range_price</th>\n",
       "    </tr>\n",
       "  </thead>\n",
       "  <tbody>\n",
       "    <tr>\n",
       "      <th>0</th>\n",
       "      <td>Electronics</td>\n",
       "      <td>500</td>\n",
       "    </tr>\n",
       "    <tr>\n",
       "      <th>1</th>\n",
       "      <td>Furniture</td>\n",
       "      <td>180</td>\n",
       "    </tr>\n",
       "  </tbody>\n",
       "</table>\n",
       "</div>"
      ],
      "text/plain": [
       "      Category  range_price\n",
       "0  Electronics          500\n",
       "1    Furniture          180"
      ]
     },
     "execution_count": 64,
     "metadata": {},
     "output_type": "execute_result"
    }
   ],
   "source": [
    "# custom aggregation column\n",
    "def range_func(item):\n",
    "    return item.max() - item.min()\n",
    "\n",
    "df.groupby(\"Category\").agg(\n",
    "    range_price=(\"Price\", range_func)\n",
    ").reset_index()"
   ]
  },
  {
   "cell_type": "markdown",
   "id": "face6848-9a36-49c9-8238-b2ff7f88b41e",
   "metadata": {},
   "source": [
    "#### Pivot table"
   ]
  },
  {
   "cell_type": "code",
   "execution_count": 66,
   "id": "638f9de3-f231-40a8-8d80-2c7b86fb9ec5",
   "metadata": {},
   "outputs": [
    {
     "data": {
      "text/html": [
       "<div>\n",
       "<style scoped>\n",
       "    .dataframe tbody tr th:only-of-type {\n",
       "        vertical-align: middle;\n",
       "    }\n",
       "\n",
       "    .dataframe tbody tr th {\n",
       "        vertical-align: top;\n",
       "    }\n",
       "\n",
       "    .dataframe thead th {\n",
       "        text-align: right;\n",
       "    }\n",
       "</style>\n",
       "<table border=\"1\" class=\"dataframe\">\n",
       "  <thead>\n",
       "    <tr style=\"text-align: right;\">\n",
       "      <th>Category</th>\n",
       "      <th>Electronics</th>\n",
       "      <th>Furniture</th>\n",
       "    </tr>\n",
       "    <tr>\n",
       "      <th>Region</th>\n",
       "      <th></th>\n",
       "      <th></th>\n",
       "    </tr>\n",
       "  </thead>\n",
       "  <tbody>\n",
       "    <tr>\n",
       "      <th>East</th>\n",
       "      <td>1</td>\n",
       "      <td>0</td>\n",
       "    </tr>\n",
       "    <tr>\n",
       "      <th>North</th>\n",
       "      <td>2</td>\n",
       "      <td>2</td>\n",
       "    </tr>\n",
       "    <tr>\n",
       "      <th>South</th>\n",
       "      <td>1</td>\n",
       "      <td>0</td>\n",
       "    </tr>\n",
       "    <tr>\n",
       "      <th>West</th>\n",
       "      <td>0</td>\n",
       "      <td>4</td>\n",
       "    </tr>\n",
       "  </tbody>\n",
       "</table>\n",
       "</div>"
      ],
      "text/plain": [
       "Category  Electronics  Furniture\n",
       "Region                          \n",
       "East                1          0\n",
       "North               2          2\n",
       "South               1          0\n",
       "West                0          4"
      ]
     },
     "execution_count": 66,
     "metadata": {},
     "output_type": "execute_result"
    }
   ],
   "source": [
    "\"\"\"\n",
    "With one value to pivot.\n",
    "\n",
    "values=\"Quantity\": The column to aggregate.\n",
    "index=\"Region\": Rows are grouped by the Region column.\n",
    "columns=\"Category\": Creates separate columns for each unique value in the Category column.\n",
    "aggfunc=\"sum\": Aggregates values using the sum function.\n",
    "fill_value=0: Fills missing values with 0.\n",
    "\"\"\"\n",
    "df.pivot_table(\n",
    "    values=\"Quantity\",\n",
    "    index=\"Region\",\n",
    "    columns=\"Category\",\n",
    "    aggfunc=\"sum\",\n",
    "    fill_value=0\n",
    ")"
   ]
  },
  {
   "cell_type": "code",
   "execution_count": 68,
   "id": "8e2810de-d9a0-442e-8d89-805b38f21aae",
   "metadata": {},
   "outputs": [
    {
     "data": {
      "text/html": [
       "<div>\n",
       "<style scoped>\n",
       "    .dataframe tbody tr th:only-of-type {\n",
       "        vertical-align: middle;\n",
       "    }\n",
       "\n",
       "    .dataframe tbody tr th {\n",
       "        vertical-align: top;\n",
       "    }\n",
       "\n",
       "    .dataframe thead tr th {\n",
       "        text-align: left;\n",
       "    }\n",
       "\n",
       "    .dataframe thead tr:last-of-type th {\n",
       "        text-align: right;\n",
       "    }\n",
       "</style>\n",
       "<table border=\"1\" class=\"dataframe\">\n",
       "  <thead>\n",
       "    <tr>\n",
       "      <th></th>\n",
       "      <th colspan=\"2\" halign=\"left\">Price</th>\n",
       "      <th colspan=\"2\" halign=\"left\">Quantity</th>\n",
       "    </tr>\n",
       "    <tr>\n",
       "      <th>Category</th>\n",
       "      <th>Electronics</th>\n",
       "      <th>Furniture</th>\n",
       "      <th>Electronics</th>\n",
       "      <th>Furniture</th>\n",
       "    </tr>\n",
       "    <tr>\n",
       "      <th>Region</th>\n",
       "      <th></th>\n",
       "      <th></th>\n",
       "      <th></th>\n",
       "      <th></th>\n",
       "    </tr>\n",
       "  </thead>\n",
       "  <tbody>\n",
       "    <tr>\n",
       "      <th>East</th>\n",
       "      <td>799</td>\n",
       "      <td>0</td>\n",
       "      <td>1</td>\n",
       "      <td>0</td>\n",
       "    </tr>\n",
       "    <tr>\n",
       "      <th>North</th>\n",
       "      <td>999</td>\n",
       "      <td>300</td>\n",
       "      <td>2</td>\n",
       "      <td>2</td>\n",
       "    </tr>\n",
       "    <tr>\n",
       "      <th>South</th>\n",
       "      <td>499</td>\n",
       "      <td>0</td>\n",
       "      <td>1</td>\n",
       "      <td>0</td>\n",
       "    </tr>\n",
       "    <tr>\n",
       "      <th>West</th>\n",
       "      <td>0</td>\n",
       "      <td>120</td>\n",
       "      <td>0</td>\n",
       "      <td>4</td>\n",
       "    </tr>\n",
       "  </tbody>\n",
       "</table>\n",
       "</div>"
      ],
      "text/plain": [
       "               Price              Quantity          \n",
       "Category Electronics Furniture Electronics Furniture\n",
       "Region                                              \n",
       "East             799         0           1         0\n",
       "North            999       300           2         2\n",
       "South            499         0           1         0\n",
       "West               0       120           0         4"
      ]
     },
     "execution_count": 68,
     "metadata": {},
     "output_type": "execute_result"
    }
   ],
   "source": [
    "\"\"\"\n",
    "With multiple values to pivot.\n",
    "\n",
    "values=\"Quantity\": The column to aggregate.\n",
    "index=\"Region\": Rows are grouped by the Region column.\n",
    "columns=\"Category\": Creates separate columns for each unique value in the Category column.\n",
    "aggfunc=\"sum\": Aggregates values using the sum function.\n",
    "fill_value=0: Fills missing values with 0.\n",
    "\"\"\"\n",
    "df.pivot_table(\n",
    "    values=[\"Quantity\", \"Price\"],\n",
    "    index=\"Region\",\n",
    "    columns=\"Category\",\n",
    "    aggfunc=\"sum\",\n",
    "    fill_value=0\n",
    ")"
   ]
  },
  {
   "cell_type": "markdown",
   "id": "0f420fc5-0c82-4408-855c-5a5e3046816a",
   "metadata": {},
   "source": [
    "#### apply"
   ]
  },
  {
   "cell_type": "code",
   "execution_count": 72,
   "id": "3825792b-339e-408e-ad2e-220ee3e8bcb5",
   "metadata": {},
   "outputs": [
    {
     "data": {
      "text/html": [
       "<div>\n",
       "<style scoped>\n",
       "    .dataframe tbody tr th:only-of-type {\n",
       "        vertical-align: middle;\n",
       "    }\n",
       "\n",
       "    .dataframe tbody tr th {\n",
       "        vertical-align: top;\n",
       "    }\n",
       "\n",
       "    .dataframe thead th {\n",
       "        text-align: right;\n",
       "    }\n",
       "</style>\n",
       "<table border=\"1\" class=\"dataframe\">\n",
       "  <thead>\n",
       "    <tr style=\"text-align: right;\">\n",
       "      <th></th>\n",
       "      <th>Price</th>\n",
       "    </tr>\n",
       "  </thead>\n",
       "  <tbody>\n",
       "    <tr>\n",
       "      <th>0</th>\n",
       "      <td>99.9</td>\n",
       "    </tr>\n",
       "    <tr>\n",
       "      <th>1</th>\n",
       "      <td>49.9</td>\n",
       "    </tr>\n",
       "    <tr>\n",
       "      <th>2</th>\n",
       "      <td>79.9</td>\n",
       "    </tr>\n",
       "    <tr>\n",
       "      <th>3</th>\n",
       "      <td>12.0</td>\n",
       "    </tr>\n",
       "    <tr>\n",
       "      <th>4</th>\n",
       "      <td>30.0</td>\n",
       "    </tr>\n",
       "  </tbody>\n",
       "</table>\n",
       "</div>"
      ],
      "text/plain": [
       "   Price\n",
       "0   99.9\n",
       "1   49.9\n",
       "2   79.9\n",
       "3   12.0\n",
       "4   30.0"
      ]
     },
     "execution_count": 72,
     "metadata": {},
     "output_type": "execute_result"
    }
   ],
   "source": [
    "\"\"\"\n",
    "The apply function allows you to apply a function (or lambda) to either rows or columns.\n",
    "row is axis=0 \n",
    "\"\"\"\n",
    "df[[\"Price\"]].apply(lambda x: x * 0.1, axis=0)"
   ]
  },
  {
   "cell_type": "markdown",
   "id": "58070cfc-76d0-4aaf-8a93-06ca31957c52",
   "metadata": {},
   "source": [
    "#### map"
   ]
  },
  {
   "cell_type": "code",
   "execution_count": 74,
   "id": "0ef18c25-f3dc-482e-b84c-49100464bd93",
   "metadata": {},
   "outputs": [
    {
     "data": {
      "text/html": [
       "<div>\n",
       "<style scoped>\n",
       "    .dataframe tbody tr th:only-of-type {\n",
       "        vertical-align: middle;\n",
       "    }\n",
       "\n",
       "    .dataframe tbody tr th {\n",
       "        vertical-align: top;\n",
       "    }\n",
       "\n",
       "    .dataframe thead th {\n",
       "        text-align: right;\n",
       "    }\n",
       "</style>\n",
       "<table border=\"1\" class=\"dataframe\">\n",
       "  <thead>\n",
       "    <tr style=\"text-align: right;\">\n",
       "      <th></th>\n",
       "      <th>Price</th>\n",
       "    </tr>\n",
       "  </thead>\n",
       "  <tbody>\n",
       "    <tr>\n",
       "      <th>0</th>\n",
       "      <td>99.9</td>\n",
       "    </tr>\n",
       "    <tr>\n",
       "      <th>1</th>\n",
       "      <td>49.9</td>\n",
       "    </tr>\n",
       "    <tr>\n",
       "      <th>2</th>\n",
       "      <td>79.9</td>\n",
       "    </tr>\n",
       "    <tr>\n",
       "      <th>3</th>\n",
       "      <td>12.0</td>\n",
       "    </tr>\n",
       "    <tr>\n",
       "      <th>4</th>\n",
       "      <td>30.0</td>\n",
       "    </tr>\n",
       "  </tbody>\n",
       "</table>\n",
       "</div>"
      ],
      "text/plain": [
       "   Price\n",
       "0   99.9\n",
       "1   49.9\n",
       "2   79.9\n",
       "3   12.0\n",
       "4   30.0"
      ]
     },
     "execution_count": 74,
     "metadata": {},
     "output_type": "execute_result"
    }
   ],
   "source": [
    "\"\"\"\n",
    "The map function works element-wise on a Series. It’s faster and simpler than apply when working with a single column.\n",
    "therefore no need axis\n",
    "\"\"\"\n",
    "df[[\"Price\"]].map(lambda x: x * 0.1)"
   ]
  },
  {
   "cell_type": "markdown",
   "id": "868ce2b3-7471-48a9-aab9-49717c86162c",
   "metadata": {},
   "source": [
    "#### applymap"
   ]
  },
  {
   "cell_type": "code",
   "execution_count": 75,
   "id": "0e76c222-3e4a-41ac-9160-32f5af17ae29",
   "metadata": {},
   "outputs": [
    {
     "data": {
      "text/plain": [
       "'\\nThe applymap function applies a function to every element in a DataFrame (used for DataFrames, not Series).\\n'"
      ]
     },
     "execution_count": 75,
     "metadata": {},
     "output_type": "execute_result"
    }
   ],
   "source": [
    "\"\"\"\n",
    "The applymap function applies a function to every element in a DataFrame (used for DataFrames, not Series).\n",
    "\"\"\""
   ]
  },
  {
   "cell_type": "code",
   "execution_count": 77,
   "id": "08f8b906-94de-428c-b26f-03eec9b8620f",
   "metadata": {},
   "outputs": [
    {
     "name": "stderr",
     "output_type": "stream",
     "text": [
      "/var/folders/4d/c92r7j0x63v8v0t9zqv4cxpr0000gn/T/ipykernel_2180/1884092189.py:1: FutureWarning: DataFrame.applymap has been deprecated. Use DataFrame.map instead.\n",
      "  df[[\"Price\"]].applymap(lambda x: x * 0.1)\n"
     ]
    },
    {
     "data": {
      "text/html": [
       "<div>\n",
       "<style scoped>\n",
       "    .dataframe tbody tr th:only-of-type {\n",
       "        vertical-align: middle;\n",
       "    }\n",
       "\n",
       "    .dataframe tbody tr th {\n",
       "        vertical-align: top;\n",
       "    }\n",
       "\n",
       "    .dataframe thead th {\n",
       "        text-align: right;\n",
       "    }\n",
       "</style>\n",
       "<table border=\"1\" class=\"dataframe\">\n",
       "  <thead>\n",
       "    <tr style=\"text-align: right;\">\n",
       "      <th></th>\n",
       "      <th>Price</th>\n",
       "    </tr>\n",
       "  </thead>\n",
       "  <tbody>\n",
       "    <tr>\n",
       "      <th>0</th>\n",
       "      <td>99.9</td>\n",
       "    </tr>\n",
       "    <tr>\n",
       "      <th>1</th>\n",
       "      <td>49.9</td>\n",
       "    </tr>\n",
       "    <tr>\n",
       "      <th>2</th>\n",
       "      <td>79.9</td>\n",
       "    </tr>\n",
       "    <tr>\n",
       "      <th>3</th>\n",
       "      <td>12.0</td>\n",
       "    </tr>\n",
       "    <tr>\n",
       "      <th>4</th>\n",
       "      <td>30.0</td>\n",
       "    </tr>\n",
       "  </tbody>\n",
       "</table>\n",
       "</div>"
      ],
      "text/plain": [
       "   Price\n",
       "0   99.9\n",
       "1   49.9\n",
       "2   79.9\n",
       "3   12.0\n",
       "4   30.0"
      ]
     },
     "execution_count": 77,
     "metadata": {},
     "output_type": "execute_result"
    }
   ],
   "source": [
    "df[[\"Price\"]].applymap(lambda x: x * 0.1)"
   ]
  },
  {
   "cell_type": "markdown",
   "id": "cef06f77-ead1-44b4-9891-8b6005db529a",
   "metadata": {},
   "source": [
    "#### complex lambda"
   ]
  },
  {
   "cell_type": "code",
   "execution_count": 78,
   "id": "de4281b8-a8c3-401f-a67f-b275f50713d7",
   "metadata": {},
   "outputs": [],
   "source": [
    "\n",
    "data = {\n",
    "    \"Order ID\": [101, 102, 103, 104, 105],\n",
    "    \"Product\": [\"Apple iPhone\", \"Samsung TV\", \"HP Laptop\", \"Office Chair\", \"Wooden Desk\"],\n",
    "    \"Category\": [\"Electronics\", \"Electronics\", \"Electronics\", \"Furniture\", \"Furniture\"],\n",
    "    \"Quantity\": [2, 1, 1, 4, 2],\n",
    "    \"Price\": [999, 499, 799, 120, 300],\n",
    "    \"Discount\": [0.1, 0.15, 0.05, 0.2, 0.1],\n",
    "    \"Order Date\": [\"2024-01-01\", \"2024-01-03\", \"2024-01-05\", \"2024-01-10\", \"2024-01-15\"],\n",
    "    \"Region\": [\"North\", \"South\", \"East\", \"West\", \"North\"]\n",
    "}\n",
    "\n",
    "df = pd.DataFrame(data)"
   ]
  },
  {
   "cell_type": "code",
   "execution_count": 79,
   "id": "3fea558a-5cfe-4945-83e7-2b484d865534",
   "metadata": {},
   "outputs": [
    {
     "data": {
      "text/html": [
       "<div>\n",
       "<style scoped>\n",
       "    .dataframe tbody tr th:only-of-type {\n",
       "        vertical-align: middle;\n",
       "    }\n",
       "\n",
       "    .dataframe tbody tr th {\n",
       "        vertical-align: top;\n",
       "    }\n",
       "\n",
       "    .dataframe thead th {\n",
       "        text-align: right;\n",
       "    }\n",
       "</style>\n",
       "<table border=\"1\" class=\"dataframe\">\n",
       "  <thead>\n",
       "    <tr style=\"text-align: right;\">\n",
       "      <th></th>\n",
       "      <th>Order ID</th>\n",
       "      <th>Product</th>\n",
       "      <th>Category</th>\n",
       "      <th>Quantity</th>\n",
       "      <th>Price</th>\n",
       "      <th>Discount</th>\n",
       "      <th>Order Date</th>\n",
       "      <th>Region</th>\n",
       "    </tr>\n",
       "  </thead>\n",
       "  <tbody>\n",
       "    <tr>\n",
       "      <th>0</th>\n",
       "      <td>101</td>\n",
       "      <td>Apple iPhone</td>\n",
       "      <td>Electronics</td>\n",
       "      <td>2</td>\n",
       "      <td>999</td>\n",
       "      <td>0.10</td>\n",
       "      <td>2024-01-01</td>\n",
       "      <td>North</td>\n",
       "    </tr>\n",
       "    <tr>\n",
       "      <th>1</th>\n",
       "      <td>102</td>\n",
       "      <td>Samsung TV</td>\n",
       "      <td>Electronics</td>\n",
       "      <td>1</td>\n",
       "      <td>499</td>\n",
       "      <td>0.15</td>\n",
       "      <td>2024-01-03</td>\n",
       "      <td>South</td>\n",
       "    </tr>\n",
       "    <tr>\n",
       "      <th>2</th>\n",
       "      <td>103</td>\n",
       "      <td>HP Laptop</td>\n",
       "      <td>Electronics</td>\n",
       "      <td>1</td>\n",
       "      <td>799</td>\n",
       "      <td>0.05</td>\n",
       "      <td>2024-01-05</td>\n",
       "      <td>East</td>\n",
       "    </tr>\n",
       "    <tr>\n",
       "      <th>3</th>\n",
       "      <td>104</td>\n",
       "      <td>Office Chair</td>\n",
       "      <td>Furniture</td>\n",
       "      <td>4</td>\n",
       "      <td>120</td>\n",
       "      <td>0.20</td>\n",
       "      <td>2024-01-10</td>\n",
       "      <td>West</td>\n",
       "    </tr>\n",
       "    <tr>\n",
       "      <th>4</th>\n",
       "      <td>105</td>\n",
       "      <td>Wooden Desk</td>\n",
       "      <td>Furniture</td>\n",
       "      <td>2</td>\n",
       "      <td>300</td>\n",
       "      <td>0.10</td>\n",
       "      <td>2024-01-15</td>\n",
       "      <td>North</td>\n",
       "    </tr>\n",
       "  </tbody>\n",
       "</table>\n",
       "</div>"
      ],
      "text/plain": [
       "   Order ID       Product     Category  Quantity  Price  Discount  Order Date  \\\n",
       "0       101  Apple iPhone  Electronics         2    999      0.10  2024-01-01   \n",
       "1       102    Samsung TV  Electronics         1    499      0.15  2024-01-03   \n",
       "2       103     HP Laptop  Electronics         1    799      0.05  2024-01-05   \n",
       "3       104  Office Chair    Furniture         4    120      0.20  2024-01-10   \n",
       "4       105   Wooden Desk    Furniture         2    300      0.10  2024-01-15   \n",
       "\n",
       "  Region  \n",
       "0  North  \n",
       "1  South  \n",
       "2   East  \n",
       "3   West  \n",
       "4  North  "
      ]
     },
     "execution_count": 79,
     "metadata": {},
     "output_type": "execute_result"
    }
   ],
   "source": [
    "df.head()"
   ]
  },
  {
   "cell_type": "code",
   "execution_count": 87,
   "id": "1ff90fe2-f3c0-49a6-8c96-4b537aad33ca",
   "metadata": {},
   "outputs": [
    {
     "data": {
      "text/html": [
       "<div>\n",
       "<style scoped>\n",
       "    .dataframe tbody tr th:only-of-type {\n",
       "        vertical-align: middle;\n",
       "    }\n",
       "\n",
       "    .dataframe tbody tr th {\n",
       "        vertical-align: top;\n",
       "    }\n",
       "\n",
       "    .dataframe thead th {\n",
       "        text-align: right;\n",
       "    }\n",
       "</style>\n",
       "<table border=\"1\" class=\"dataframe\">\n",
       "  <thead>\n",
       "    <tr style=\"text-align: right;\">\n",
       "      <th></th>\n",
       "      <th>Order ID</th>\n",
       "      <th>Product</th>\n",
       "      <th>Category</th>\n",
       "      <th>Quantity</th>\n",
       "      <th>Price</th>\n",
       "      <th>Discount</th>\n",
       "      <th>Order Date</th>\n",
       "      <th>Region</th>\n",
       "      <th>Final Cost</th>\n",
       "    </tr>\n",
       "  </thead>\n",
       "  <tbody>\n",
       "    <tr>\n",
       "      <th>0</th>\n",
       "      <td>101</td>\n",
       "      <td>Apple iPhone</td>\n",
       "      <td>Electronics</td>\n",
       "      <td>2</td>\n",
       "      <td>999</td>\n",
       "      <td>0.10</td>\n",
       "      <td>2024-01-01</td>\n",
       "      <td>North</td>\n",
       "      <td>1908.1100</td>\n",
       "    </tr>\n",
       "    <tr>\n",
       "      <th>1</th>\n",
       "      <td>102</td>\n",
       "      <td>Samsung TV</td>\n",
       "      <td>Electronics</td>\n",
       "      <td>1</td>\n",
       "      <td>499</td>\n",
       "      <td>0.15</td>\n",
       "      <td>2024-01-03</td>\n",
       "      <td>South</td>\n",
       "      <td>465.3575</td>\n",
       "    </tr>\n",
       "    <tr>\n",
       "      <th>2</th>\n",
       "      <td>103</td>\n",
       "      <td>HP Laptop</td>\n",
       "      <td>Electronics</td>\n",
       "      <td>1</td>\n",
       "      <td>799</td>\n",
       "      <td>0.05</td>\n",
       "      <td>2024-01-05</td>\n",
       "      <td>East</td>\n",
       "      <td>817.0025</td>\n",
       "    </tr>\n",
       "    <tr>\n",
       "      <th>3</th>\n",
       "      <td>104</td>\n",
       "      <td>Office Chair</td>\n",
       "      <td>Furniture</td>\n",
       "      <td>4</td>\n",
       "      <td>120</td>\n",
       "      <td>0.20</td>\n",
       "      <td>2024-01-10</td>\n",
       "      <td>West</td>\n",
       "      <td>423.2000</td>\n",
       "    </tr>\n",
       "  </tbody>\n",
       "</table>\n",
       "</div>"
      ],
      "text/plain": [
       "   Order ID       Product     Category  Quantity  Price  Discount  Order Date  \\\n",
       "0       101  Apple iPhone  Electronics         2    999      0.10  2024-01-01   \n",
       "1       102    Samsung TV  Electronics         1    499      0.15  2024-01-03   \n",
       "2       103     HP Laptop  Electronics         1    799      0.05  2024-01-05   \n",
       "3       104  Office Chair    Furniture         4    120      0.20  2024-01-10   \n",
       "\n",
       "  Region  Final Cost  \n",
       "0  North   1908.1100  \n",
       "1  South    465.3575  \n",
       "2   East    817.0025  \n",
       "3   West    423.2000  "
      ]
     },
     "execution_count": 87,
     "metadata": {},
     "output_type": "execute_result"
    }
   ],
   "source": [
    "def calculate_final_cost(row, tax_rate, shipping_cost):\n",
    "    # row is the row from dataframe\n",
    "    base_cost = row[\"Quantity\"] * row[\"Price\"]\n",
    "    discount_amount = base_cost * row[\"Discount\"]\n",
    "    discount_cost = base_cost - discount_amount\n",
    "    tax_amount = discount_cost* tax_rate\n",
    "    final_cost = discount_cost + tax_amount + shipping_cost\n",
    "\n",
    "    return final_cost\n",
    "\n",
    "# arguments for the function\n",
    "tax_rate = 0.05\n",
    "shipping_cost = 20\n",
    "\n",
    "# apply upon each row\n",
    "df[\"Final Cost\"] = df.apply(lambda row: calculate_final_cost(row, tax_rate, shipping_cost), axis=1)\n",
    "df.head(-1)"
   ]
  },
  {
   "cell_type": "code",
   "execution_count": null,
   "id": "56415edd-efb2-4db6-a562-de8ee226292d",
   "metadata": {},
   "outputs": [],
   "source": []
  }
 ],
 "metadata": {
  "kernelspec": {
   "display_name": "Python 3 (ipykernel)",
   "language": "python",
   "name": "python3"
  },
  "language_info": {
   "codemirror_mode": {
    "name": "ipython",
    "version": 3
   },
   "file_extension": ".py",
   "mimetype": "text/x-python",
   "name": "python",
   "nbconvert_exporter": "python",
   "pygments_lexer": "ipython3",
   "version": "3.12.7"
  },
  "widgets": {
   "application/vnd.jupyter.widget-state+json": {
    "state": {},
    "version_major": 2,
    "version_minor": 0
   }
  }
 },
 "nbformat": 4,
 "nbformat_minor": 5
}
