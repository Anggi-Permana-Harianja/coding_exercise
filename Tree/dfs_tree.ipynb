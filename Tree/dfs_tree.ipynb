{
 "cells": [
  {
   "cell_type": "markdown",
   "id": "a9f8c5d8-dbb7-4a2c-8885-08e2bd1921cb",
   "metadata": {},
   "source": [
    "### DFS tree interview questions"
   ]
  },
  {
   "cell_type": "code",
   "execution_count": 1,
   "id": "65fd11cd-736a-4ab6-b65f-4c0801a692eb",
   "metadata": {},
   "outputs": [],
   "source": [
    "#create binary tree class\n",
    "class Node:\n",
    "    def __init__(self, val):\n",
    "        self.val = val\n",
    "        self.left = None\n",
    "        self.right = None"
   ]
  },
  {
   "cell_type": "markdown",
   "id": "dc21c9d5-975a-4903-b735-06cb6ced19c0",
   "metadata": {},
   "source": [
    "### Q1: Tree traversals (Inorder, Preorder, Postorder)\n",
    "\n",
    "[GeekforGeeks](https://www.geeksforgeeks.org/tree-traversals-inorder-preorder-and-postorder/)"
   ]
  },
  {
   "cell_type": "code",
   "execution_count": 76,
   "id": "7f74f0a5-6124-4bd9-9a5d-1cd6d8b40043",
   "metadata": {},
   "outputs": [],
   "source": [
    "class Node:\n",
    "    def __init__(self, val):\n",
    "        self.val = val\n",
    "        self.left = None\n",
    "        self.right = None\n",
    "        \n",
    "#inorder \n",
    "def inorder_print(root, array):\n",
    "    if not root:\n",
    "        return \n",
    "    inorder_print(root.left, array)\n",
    "    array.append(root.val)\n",
    "    inorder_print(root.right, array)\n",
    "    \n",
    "    return ' '.join(array)\n",
    "\n",
    "#preorder\n",
    "def preorder_print(root, array):\n",
    "    if not root:\n",
    "        return\n",
    "    array.append(root.val)\n",
    "    preorder_print(root.left, array)\n",
    "    preorder_print(root.right, array)\n",
    "    \n",
    "    return  ' '.join(array)\n",
    "\n",
    "#postorder\n",
    "def postorder_print(root, array):\n",
    "    if not root:\n",
    "        return \n",
    "    postorder_print(root.left, array)\n",
    "    postorder_print(root.right, array)\n",
    "    array.append(root.val)\n",
    "    \n",
    "    return ' '.join(array)"
   ]
  },
  {
   "cell_type": "raw",
   "id": "11b0978e-fd63-4850-958a-7fa18e252fe7",
   "metadata": {},
   "source": [
    "#input\n",
    "        +\n",
    "     /     \\\n",
    "  +         *\n",
    "/   \\      /  \\\n",
    "3   5     1    4"
   ]
  },
  {
   "cell_type": "code",
   "execution_count": 86,
   "id": "765ff743-fa68-438a-84d8-f6b2df1fff35",
   "metadata": {},
   "outputs": [],
   "source": [
    "import unittest\n",
    "class TestProgram(unittest.TestCase):\n",
    "    def test_case1(self):\n",
    "        root = Node('+')\n",
    "        root.left = Node('+')\n",
    "        root.right = Node('*')\n",
    "        root.left.left = Node('3')\n",
    "        root.left.right = Node('5')\n",
    "        root.right.left = Node('1')\n",
    "        root.right.right = Node('4')\n",
    "        \n",
    "        inorder = '3 + 5 + 1 * 4'\n",
    "        preorder = '+ + 3 5 * 1 4'\n",
    "        postorder = '3 5 + 1 4 * +'\n",
    "        \n",
    "        self.assertEqual(inorder_print(root, []), inorder)\n",
    "        self.assertEqual(preorder_print(root, []), preorder)\n",
    "        self.assertEqual(postorder_print(root, []), postorder)\n",
    "    \n",
    "    def test_case2(self):\n",
    "        root = Node('+')\n",
    "        root.left = Node('+')\n",
    "        root.right = Node('*')\n",
    "        root.left.left = Node('*')\n",
    "        root.left.left.left = Node('2')\n",
    "        root.left.left.right = Node('4')\n",
    "        root.left.right = Node('5')\n",
    "        root.right.left = Node('1')\n",
    "        root.right.right = Node('+')\n",
    "        root.right.right.left = Node('6')\n",
    "        root.right.right.right = Node('7')\n",
    "        \n",
    "        inorder = '2 * 4 + 5 + 1 * 6 + 7'\n",
    "        preorder = '+ + * 2 4 5 * 1 + 6 7'\n",
    "        postorder = '2 4 * 5 + 1 6 7 + * +'\n",
    "        \n",
    "        self.assertEqual(inorder_print(root, []), inorder)\n",
    "        self.assertEqual(preorder_print(root, []), preorder)\n",
    "        self.assertEqual(postorder_print(root, []), postorder)"
   ]
  },
  {
   "cell_type": "code",
   "execution_count": 87,
   "id": "6713b99a-3a0f-4a60-8dd2-19124bc46cd8",
   "metadata": {},
   "outputs": [
    {
     "name": "stderr",
     "output_type": "stream",
     "text": [
      "..\n",
      "----------------------------------------------------------------------\n",
      "Ran 2 tests in 0.007s\n",
      "\n",
      "OK\n"
     ]
    },
    {
     "data": {
      "text/plain": [
       "<unittest.main.TestProgram at 0x7f32622c1c40>"
      ]
     },
     "execution_count": 87,
     "metadata": {},
     "output_type": "execute_result"
    }
   ],
   "source": [
    "unittest.main(argv=[''], exit=False)"
   ]
  },
  {
   "cell_type": "code",
   "execution_count": null,
   "id": "8cdd5025-de66-4549-89a8-68d861e02ba3",
   "metadata": {},
   "outputs": [],
   "source": []
  }
 ],
 "metadata": {
  "kernelspec": {
   "display_name": "Python 3 (ipykernel)",
   "language": "python",
   "name": "python3"
  },
  "language_info": {
   "codemirror_mode": {
    "name": "ipython",
    "version": 3
   },
   "file_extension": ".py",
   "mimetype": "text/x-python",
   "name": "python",
   "nbconvert_exporter": "python",
   "pygments_lexer": "ipython3",
   "version": "3.9.7"
  }
 },
 "nbformat": 4,
 "nbformat_minor": 5
}
